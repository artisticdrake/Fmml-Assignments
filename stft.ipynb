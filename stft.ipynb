{
  "nbformat": 4,
  "nbformat_minor": 0,
  "metadata": {
    "colab": {
      "provenance": [],
      "mount_file_id": "1R9kS8wmjPr6F5eGxI1jzGFQblqaKMrQV",
      "authorship_tag": "ABX9TyMS7A9ry/VJzA06SzNo5gFT",
      "include_colab_link": true
    },
    "kernelspec": {
      "name": "python3",
      "display_name": "Python 3"
    },
    "language_info": {
      "name": "python"
    }
  },
  "cells": [
    {
      "cell_type": "markdown",
      "metadata": {
        "id": "view-in-github",
        "colab_type": "text"
      },
      "source": [
        "<a href=\"https://colab.research.google.com/github/artisticdrake/Fmml-Assignments/blob/main/stft.ipynb\" target=\"_parent\"><img src=\"https://colab.research.google.com/assets/colab-badge.svg\" alt=\"Open In Colab\"/></a>"
      ]
    },
    {
      "cell_type": "code",
      "execution_count": 32,
      "metadata": {
        "colab": {
          "base_uri": "https://localhost:8080/"
        },
        "id": "jFQH9vuhaRz8",
        "outputId": "3f4b9749-91f5-4965-8868-66cb7950736a"
      },
      "outputs": [
        {
          "output_type": "stream",
          "name": "stdout",
          "text": [
            "Processing: H518.mp3\n",
            "Classification: Noise\n",
            "Processing: H709.mp3\n",
            "Classification: Noise\n",
            "Processing: H717.mp3\n",
            "Classification: Noise\n",
            "Processing: H886.mp3\n",
            "Classification: Noise\n",
            "Processing: H1469.mp3\n",
            "Classification: Noise\n",
            "Processing: H1574.mp3\n",
            "Classification: Noise\n",
            "Processing: H1592.mp3\n",
            "Classification: Noise\n",
            "Processing: H1599.mp3\n",
            "Classification: Noise\n",
            "Processing: H1610.mp3\n",
            "Classification: Noise\n"
          ]
        }
      ],
      "source": [
        "import os\n",
        "import librosa\n",
        "import numpy as np\n",
        "\n",
        "# Define the path to the folder containing the audio samples\n",
        "audio_folder = \"/content/drive/MyDrive/iso_e20\"\n",
        "nl=[]\n",
        "avg=[]\n",
        "# Define the classification threshold\n",
        "classification_threshold = 300\n",
        "\n",
        "# Iterate through each audio file in the folder\n",
        "for filename in os.listdir(audio_folder):\n",
        "    audio_path = os.path.join(audio_folder, filename)\n",
        "    \n",
        "\n",
        "    # Load the audio file\n",
        "    audio, sr = librosa.load(audio_path, sr=None)\n",
        "\n",
        "    # Apply STFT\n",
        "    stft = np.abs(librosa.stft(audio))\n",
        "\n",
        "    # Compute the spectral centroid feature\n",
        "    spectral_centroid = librosa.feature.spectral_centroid(S=stft)\n",
        "\n",
        "    # Calculate the average spectral centroid across time\n",
        "    avg_spectral_centroid = np.mean(spectral_centroid)\n",
        "    #print(avg_spectral_centroid)\n",
        "    avg.append(avg_spectral_centroid)\n",
        "\n",
        "    # Classify as speech or noise based on the spectral centroid\n",
        "    if avg_spectral_centroid > classification_threshold:\n",
        "        #print(\"Processing:\", filename)\n",
        "        #print(\"Classification: Speech\")\n",
        "        #nl.append(filename)\n",
        "        pass\n",
        "\n",
        "    else:\n",
        "        print(\"Processing:\", filename)\n",
        "        print(\"Classification: Noise\")"
      ]
    },
    {
      "cell_type": "code",
      "source": [
        "avg=np.array(avg)"
      ],
      "metadata": {
        "id": "Emi8l__fr-g4"
      },
      "execution_count": 24,
      "outputs": []
    },
    {
      "cell_type": "code",
      "source": [
        "import matplotlib as plt\n",
        "import seaborn as sns\n",
        "\n",
        "sns.histplot(avg, kde=True,color='blue',label=\"Only Voice\")\n"
      ],
      "metadata": {
        "colab": {
          "base_uri": "https://localhost:8080/",
          "height": 448
        },
        "id": "LbDwhGCAiOZx",
        "outputId": "66c88118-f82f-49d1-84f1-88ab81ea91ab"
      },
      "execution_count": 26,
      "outputs": [
        {
          "output_type": "execute_result",
          "data": {
            "text/plain": [
              "<Axes: ylabel='Count'>"
            ]
          },
          "metadata": {},
          "execution_count": 26
        },
        {
          "output_type": "display_data",
          "data": {
            "text/plain": [
              "<Figure size 640x480 with 1 Axes>"
            ],
            "image/png": "[encoded data removed]"
          },
          "metadata": {}
        }
      ]
    }
  ]
}