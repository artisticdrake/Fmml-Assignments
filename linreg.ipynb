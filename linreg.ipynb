{
  "nbformat": 4,
  "nbformat_minor": 0,
  "metadata": {
    "colab": {
      "provenance": [],
      "authorship_tag": "ABX9TyMrFNneDgj5mbANS0nXUsv7",
      "include_colab_link": true
    },
    "kernelspec": {
      "name": "python3",
      "display_name": "Python 3"
    },
    "language_info": {
      "name": "python"
    }
  },
  "cells": [
    {
      "cell_type": "markdown",
      "metadata": {
        "id": "view-in-github",
        "colab_type": "text"
      },
      "source": [
        "<a href=\"https://colab.research.google.com/github/artisticdrake/Fmml-Assignments/blob/main/linreg.ipynb\" target=\"_parent\"><img src=\"https://colab.research.google.com/assets/colab-badge.svg\" alt=\"Open In Colab\"/></a>"
      ]
    },
    {
      "cell_type": "code",
      "execution_count": 1,
      "metadata": {
        "id": "1yHOD4IgQAsM"
      },
      "outputs": [],
      "source": [
        "import numpy as np\n",
        "import matplotlib.pyplot as plt"
      ]
    },
    {
      "cell_type": "code",
      "source": [
        "x=np.array([0,1,2,3,4,5,6,7,8,9])\n",
        "y=np.array([1,3,2,5,7,8,8,9,10,12])"
      ],
      "metadata": {
        "id": "6WPYgui3QKhU"
      },
      "execution_count": 2,
      "outputs": []
    },
    {
      "cell_type": "code",
      "source": [
        "def coeff(x,y):\n",
        "  n=np.size(x)\n",
        "  xm=np.mean(x)\n",
        "  ym=np.mean(y)\n",
        "  k=np.sum(y*x)-n*xm*ym\n",
        "  l=np.sum(x*x)-n*xm*xm\n",
        "  b1=k/l\n",
        "  b0=ym-b1*xm\n",
        "  return(b0,b1)"
      ],
      "metadata": {
        "id": "HIrp-9DqQZT2"
      },
      "execution_count": 3,
      "outputs": []
    },
    {
      "cell_type": "code",
      "source": [
        "b=coeff(x,y)\n",
        "print(\"Estimated coefficients:\\n\",b[0],\"\\n\",b[1])"
      ],
      "metadata": {
        "colab": {
          "base_uri": "https://localhost:8080/"
        },
        "id": "SikEV8O6Q6ON",
        "outputId": "9a1bf66e-4da1-4176-e9f7-ff981b48a10b"
      },
      "execution_count": 4,
      "outputs": [
        {
          "output_type": "stream",
          "name": "stdout",
          "text": [
            "Estimated coefficients:\n",
            " 1.2363636363636363 \n",
            " 1.1696969696969697\n"
          ]
        }
      ]
    },
    {
      "cell_type": "code",
      "source": [
        "def plotr(x,y,b):\n",
        "  plt.scatter(x,y,color='m',marker='o',s=30)\n",
        "  ypred=b[0]+b[1]*x\n",
        "  plt.plot(x,ypred,color='r')\n",
        "  plt.xlabel('x')\n",
        "  plt.ylabel('y')\n",
        "  plt.show()\n",
        "\n",
        "plotr(x,y,b)"
      ],
      "metadata": {
        "colab": {
          "base_uri": "https://localhost:8080/",
          "height": 279
        },
        "id": "saWm1RNNRJYQ",
        "outputId": "f895030b-edc1-46e2-86f6-77b1e86ca238"
      },
      "execution_count": 6,
      "outputs": [
        {
          "output_type": "display_data",
          "data": {
            "text/plain": [
              "<Figure size 432x288 with 1 Axes>"
            ],
            "image/png": "[encoded data removed]"
          },
          "metadata": {
            "needs_background": "light"
          }
        }
      ]
    }
  ]
}